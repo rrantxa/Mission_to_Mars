{
 "cells": [
  {
   "cell_type": "code",
   "execution_count": 1,
   "id": "4726716d",
   "metadata": {},
   "outputs": [],
   "source": [
    "# Import dependencies.\n",
    "from splinter import Browser\n",
    "from bs4 import BeautifulSoup\n",
    "from webdriver_manager.chrome import ChromeDriverManager"
   ]
  },
  {
   "cell_type": "code",
   "execution_count": 2,
   "id": "f483648c",
   "metadata": {},
   "outputs": [
    {
     "name": "stderr",
     "output_type": "stream",
     "text": [
      "[WDM] - Downloading: 100%|████████████████████████████████████████████████████████| 6.58M/6.58M [00:00<00:00, 11.3MB/s]\n"
     ]
    }
   ],
   "source": [
    "# Set up path. \n",
    "executable_path = {'executable_path': ChromeDriverManager().install()}\n",
    "browser = Browser('chrome', **executable_path, headless = False)\n",
    "\n",
    "url = 'http://quotes.toscrape.com/'\n",
    "browser.visit(url)\n",
    "html = browser.html\n",
    "soup = BeautifulSoup(html, 'html.parser')\n",
    "# In the preceding code, the Splinter browser visits the URL and then the HTML content of the page gets assigned to the html variable. Beautiful Soup then parses the HTML content."
   ]
  },
  {
   "cell_type": "code",
   "execution_count": 3,
   "id": "ca0df79e",
   "metadata": {},
   "outputs": [
    {
     "name": "stdout",
     "output_type": "stream",
     "text": [
      "“The world as we have created it is a process of our thinking. It cannot be changed without changing our thinking.”\n",
      "“It is our choices, Harry, that show what we truly are, far more than our abilities.”\n",
      "“There are only two ways to live your life. One is as though nothing is a miracle. The other is as though everything is a miracle.”\n",
      "“The person, be it gentleman or lady, who has not pleasure in a good novel, must be intolerably stupid.”\n",
      "“Imperfection is beauty, madness is genius and it's better to be absolutely ridiculous than absolutely boring.”\n",
      "“Try not to become a man of success. Rather become a man of value.”\n",
      "“It is better to be hated for what you are than to be loved for what you are not.”\n",
      "“I have not failed. I've just found 10,000 ways that won't work.”\n",
      "“A woman is like a tea bag; you never know how strong it is until it's in hot water.”\n",
      "“A day without sunshine is like, you know, night.”\n"
     ]
    }
   ],
   "source": [
    "# Scrape all quotes on a single page.\n",
    "quotes = soup.find_all('span', class_='text')\n",
    "\n",
    "for quote in quotes:\n",
    "    print(quote.text)"
   ]
  },
  {
   "cell_type": "code",
   "execution_count": 6,
   "id": "b36ce76e",
   "metadata": {},
   "outputs": [
    {
     "name": "stdout",
     "output_type": "stream",
     "text": [
      "<a href=\"/\" style=\"text-decoration: none\">Quotes to Scrape</a>\n",
      "<a href=\"/login\">Login</a>\n",
      "<a href=\"/author/Albert-Einstein\">(about)</a>\n",
      "<a class=\"tag\" href=\"/tag/change/page/1/\">change</a>\n",
      "<a class=\"tag\" href=\"/tag/deep-thoughts/page/1/\">deep-thoughts</a>\n",
      "<a class=\"tag\" href=\"/tag/thinking/page/1/\">thinking</a>\n",
      "<a class=\"tag\" href=\"/tag/world/page/1/\">world</a>\n",
      "<a href=\"/author/J-K-Rowling\">(about)</a>\n",
      "<a class=\"tag\" href=\"/tag/abilities/page/1/\">abilities</a>\n",
      "<a class=\"tag\" href=\"/tag/choices/page/1/\">choices</a>\n",
      "<a href=\"/author/Albert-Einstein\">(about)</a>\n",
      "<a class=\"tag\" href=\"/tag/inspirational/page/1/\">inspirational</a>\n",
      "<a class=\"tag\" href=\"/tag/life/page/1/\">life</a>\n",
      "<a class=\"tag\" href=\"/tag/live/page/1/\">live</a>\n",
      "<a class=\"tag\" href=\"/tag/miracle/page/1/\">miracle</a>\n",
      "<a class=\"tag\" href=\"/tag/miracles/page/1/\">miracles</a>\n",
      "<a href=\"/author/Jane-Austen\">(about)</a>\n",
      "<a class=\"tag\" href=\"/tag/aliteracy/page/1/\">aliteracy</a>\n",
      "<a class=\"tag\" href=\"/tag/books/page/1/\">books</a>\n",
      "<a class=\"tag\" href=\"/tag/classic/page/1/\">classic</a>\n",
      "<a class=\"tag\" href=\"/tag/humor/page/1/\">humor</a>\n",
      "<a href=\"/author/Marilyn-Monroe\">(about)</a>\n",
      "<a class=\"tag\" href=\"/tag/be-yourself/page/1/\">be-yourself</a>\n",
      "<a class=\"tag\" href=\"/tag/inspirational/page/1/\">inspirational</a>\n",
      "<a href=\"/author/Albert-Einstein\">(about)</a>\n",
      "<a class=\"tag\" href=\"/tag/adulthood/page/1/\">adulthood</a>\n",
      "<a class=\"tag\" href=\"/tag/success/page/1/\">success</a>\n",
      "<a class=\"tag\" href=\"/tag/value/page/1/\">value</a>\n",
      "<a href=\"/author/Andre-Gide\">(about)</a>\n",
      "<a class=\"tag\" href=\"/tag/life/page/1/\">life</a>\n",
      "<a class=\"tag\" href=\"/tag/love/page/1/\">love</a>\n",
      "<a href=\"/author/Thomas-A-Edison\">(about)</a>\n",
      "<a class=\"tag\" href=\"/tag/edison/page/1/\">edison</a>\n",
      "<a class=\"tag\" href=\"/tag/failure/page/1/\">failure</a>\n",
      "<a class=\"tag\" href=\"/tag/inspirational/page/1/\">inspirational</a>\n",
      "<a class=\"tag\" href=\"/tag/paraphrased/page/1/\">paraphrased</a>\n",
      "<a href=\"/author/Eleanor-Roosevelt\">(about)</a>\n",
      "<a class=\"tag\" href=\"/tag/misattributed-eleanor-roosevelt/page/1/\">misattributed-eleanor-roosevelt</a>\n",
      "<a href=\"/author/Steve-Martin\">(about)</a>\n",
      "<a class=\"tag\" href=\"/tag/humor/page/1/\">humor</a>\n",
      "<a class=\"tag\" href=\"/tag/obvious/page/1/\">obvious</a>\n",
      "<a class=\"tag\" href=\"/tag/simile/page/1/\">simile</a>\n",
      "<a href=\"/page/2/\">Next <span aria-hidden=\"true\">→</span></a>\n",
      "<a class=\"tag\" href=\"/tag/love/\" style=\"font-size: 28px\">love</a>\n",
      "<a class=\"tag\" href=\"/tag/inspirational/\" style=\"font-size: 26px\">inspirational</a>\n",
      "<a class=\"tag\" href=\"/tag/life/\" style=\"font-size: 26px\">life</a>\n",
      "<a class=\"tag\" href=\"/tag/humor/\" style=\"font-size: 24px\">humor</a>\n",
      "<a class=\"tag\" href=\"/tag/books/\" style=\"font-size: 22px\">books</a>\n",
      "<a class=\"tag\" href=\"/tag/reading/\" style=\"font-size: 14px\">reading</a>\n",
      "<a class=\"tag\" href=\"/tag/friendship/\" style=\"font-size: 10px\">friendship</a>\n",
      "<a class=\"tag\" href=\"/tag/friends/\" style=\"font-size: 8px\">friends</a>\n",
      "<a class=\"tag\" href=\"/tag/truth/\" style=\"font-size: 8px\">truth</a>\n",
      "<a class=\"tag\" href=\"/tag/simile/\" style=\"font-size: 6px\">simile</a>\n",
      "<a href=\"https://www.goodreads.com/quotes\">GoodReads.com</a>\n",
      "<a href=\"https://scrapinghub.com\">Scrapinghub</a>\n"
     ]
    }
   ],
   "source": [
    "# Scrape all links on a single page.\n",
    "links = soup.find_all('a')\n",
    "\n",
    "for link in links:\n",
    "    print(link)"
   ]
  },
  {
   "cell_type": "code",
   "execution_count": 7,
   "id": "cb4b9cb2",
   "metadata": {},
   "outputs": [],
   "source": [
    "browser.links.find_by_partial_text('Next').click()"
   ]
  }
 ],
 "metadata": {
  "kernelspec": {
   "display_name": "PythonData",
   "language": "python",
   "name": "pythondata"
  },
  "language_info": {
   "codemirror_mode": {
    "name": "ipython",
    "version": 3
   },
   "file_extension": ".py",
   "mimetype": "text/x-python",
   "name": "python",
   "nbconvert_exporter": "python",
   "pygments_lexer": "ipython3",
   "version": "3.9.12"
  }
 },
 "nbformat": 4,
 "nbformat_minor": 5
}
